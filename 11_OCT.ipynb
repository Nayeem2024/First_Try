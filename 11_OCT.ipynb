{
  "nbformat": 4,
  "nbformat_minor": 0,
  "metadata": {
    "colab": {
      "provenance": [],
      "authorship_tag": "ABX9TyNOH9gSLdngMC9fv5LklRZJ",
      "include_colab_link": true
    },
    "kernelspec": {
      "name": "python3",
      "display_name": "Python 3"
    },
    "language_info": {
      "name": "python"
    }
  },
  "cells": [
    {
      "cell_type": "markdown",
      "metadata": {
        "id": "view-in-github",
        "colab_type": "text"
      },
      "source": [
        "<a href=\"https://colab.research.google.com/github/Nayeem2024/First_Try/blob/main/11_OCT.ipynb\" target=\"_parent\"><img src=\"https://colab.research.google.com/assets/colab-badge.svg\" alt=\"Open In Colab\"/></a>"
      ]
    },
    {
      "cell_type": "code",
      "source": [
        "temp = int(input('Enter the temperature in degrees C: '))\n",
        "if temp<=20:\n",
        "  print('Cold!')\n",
        "else:\n",
        "  print('Hot!')"
      ],
      "metadata": {
        "colab": {
          "base_uri": "https://localhost:8080/"
        },
        "id": "IoC_zXzBo9BO",
        "outputId": "3a423195-7611-4794-e1cf-2a2fdcec4d96"
      },
      "execution_count": null,
      "outputs": [
        {
          "output_type": "stream",
          "name": "stdout",
          "text": [
            "Enter the temperature in degrees C: 25\n",
            "Hot!\n"
          ]
        }
      ]
    },
    {
      "cell_type": "code",
      "source": [],
      "metadata": {
        "id": "UskHhuDfo8km"
      },
      "execution_count": null,
      "outputs": []
    },
    {
      "cell_type": "code",
      "execution_count": null,
      "metadata": {
        "id": "d_ICRexznVTy"
      },
      "outputs": [],
      "source": [
        "n = 'Not Eligible for Credit transfer!'\n",
        "e = 'Eligible for Credit transfer!'\n",
        "prog = input('Enter your program name: '.upper())\n"
      ]
    },
    {
      "cell_type": "markdown",
      "source": [
        "### **LOOP**"
      ],
      "metadata": {
        "id": "1SX_cPf7tRe1"
      }
    },
    {
      "cell_type": "code",
      "source": [
        "count = 5\n",
        "while count:\n",
        "    print(\"HAHA\")\n",
        "    count-=1"
      ],
      "metadata": {
        "colab": {
          "base_uri": "https://localhost:8080/"
        },
        "id": "OT0yG33NumfX",
        "outputId": "de1441bc-adce-4a73-f3e6-f268d7df8ffc"
      },
      "execution_count": null,
      "outputs": [
        {
          "output_type": "stream",
          "name": "stdout",
          "text": [
            "HAHA\n",
            "HAHA\n",
            "HAHA\n",
            "HAHA\n",
            "HAHA\n"
          ]
        }
      ]
    },
    {
      "cell_type": "code",
      "source": [
        "thickness = float(input('Enter thickness of paper in mm: '))\n",
        "distance = 384400000000\n",
        "fold = 0\n",
        "i = thickness\n",
        "while i<=distance:\n",
        "    i = i*2\n",
        "    fold += 1\n",
        "\n",
        "print(fold)"
      ],
      "metadata": {
        "colab": {
          "base_uri": "https://localhost:8080/"
        },
        "id": "2kGoP9zbtaIX",
        "outputId": "e00f7d21-62ce-4143-e2d9-17b64c7f9dcd"
      },
      "execution_count": null,
      "outputs": [
        {
          "output_type": "stream",
          "name": "stdout",
          "text": [
            "Enter thickness of paper in mm: 0.001\n",
            "49\n"
          ]
        }
      ]
    },
    {
      "cell_type": "code",
      "source": [],
      "metadata": {
        "id": "cpn7GiRMyDST"
      },
      "execution_count": null,
      "outputs": []
    }
  ]
}